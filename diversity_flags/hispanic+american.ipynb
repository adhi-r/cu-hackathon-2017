{
 "cells": [
  {
   "cell_type": "code",
   "execution_count": 1,
   "metadata": {
    "collapsed": true
   },
   "outputs": [],
   "source": [
    "import pandas as pd\n",
    "pd.set_option('display.max_rows', 500)\n",
    "import matplotlib.pyplot as plt"
   ]
  },
  {
   "cell_type": "code",
   "execution_count": 2,
   "metadata": {
    "collapsed": true
   },
   "outputs": [],
   "source": [
    "df00 = pd.read_csv('/data/govt2000_2012/GovernmentSpendingContracts-2000.csv',usecols=['ha_owned_business_flag'])\n",
    "df01 = pd.read_csv('/data/govt2000_2012/GovernmentSpendingContracts-2001.csv',usecols=['ha_owned_business_flag'])\n",
    "df02 = pd.read_csv('/data/govt2000_2012/GovernmentSpendingContracts-2002.csv',usecols=['ha_owned_business_flag'])\n",
    "df03 = pd.read_csv('/data/govt2000_2012/GovernmentSpendingContracts-2003.csv',usecols=['ha_owned_business_flag'])\n",
    "df04 = pd.read_csv('/data/govt2000_2012/GovernmentSpendingContracts-2004.csv',usecols=['ha_owned_business_flag'])\n",
    "df05 = pd.read_csv('/data/govt2000_2012/GovernmentSpendingContracts-2005.csv',usecols=['ha_owned_business_flag'])"
   ]
  },
  {
   "cell_type": "code",
   "execution_count": 3,
   "metadata": {
    "collapsed": true
   },
   "outputs": [],
   "source": [
    "df06 = pd.read_csv('/data/govt2000_2012/GovernmentSpendingContracts-2006.csv',usecols=['ha_owned_business_flag'])\n",
    "df07 = pd.read_csv('/data/govt2000_2012/GovernmentSpendingContracts-2007.csv',usecols=['ha_owned_business_flag'])\n",
    "df08 = pd.read_csv('/data/govt2000_2012/GovernmentSpendingContracts-2008.csv',usecols=['ha_owned_business_flag'])\n",
    "df09 = pd.read_csv('/data/govt2000_2012/GovernmentSpendingContracts-2009.csv',usecols=['ha_owned_business_flag'])\n",
    "df10 = pd.read_csv('/data/govt2000_2012/GovernmentSpendingContracts-2010.csv',usecols=['ha_owned_business_flag'])\n",
    "df11 = pd.read_csv('/data/govt2000_2012/GovernmentSpendingContracts-2011.csv',usecols=['ha_owned_business_flag'])\n",
    "df12 = pd.read_csv('/data/govt2000_2012/GovernmentSpendingContracts-2012.csv',usecols=['ha_owned_business_flag'])"
   ]
  },
  {
   "cell_type": "markdown",
   "metadata": {},
   "source": [
    "** Women owned proportions **"
   ]
  },
  {
   "cell_type": "code",
   "execution_count": 4,
   "metadata": {
    "collapsed": true
   },
   "outputs": [],
   "source": [
    "p=[]"
   ]
  },
  {
   "cell_type": "code",
   "execution_count": 5,
   "metadata": {
    "collapsed": true
   },
   "outputs": [],
   "source": [
    "w00 = df00['ha_owned_business_flag'].dropna().value_counts()\n",
    "p.append(w00['Y']/w00.sum()*100)\n",
    "w01 = df01['ha_owned_business_flag'].dropna().value_counts()\n",
    "p.append(w01['Y']/w01.sum()*100)\n",
    "w02 = df02['ha_owned_business_flag'].dropna().value_counts()\n",
    "p.append(w02['Y']/w02.sum()*100)\n",
    "w03 = df03['ha_owned_business_flag'].dropna().value_counts()\n",
    "p.append(w03['Y']/w03.sum()*100)\n",
    "w04 = df04['ha_owned_business_flag'].dropna().value_counts()\n",
    "p.append(w04['Y']/w04.sum()*100)\n",
    "w05 = df05['ha_owned_business_flag'].dropna().value_counts()\n",
    "p.append(w05['Y']/w05.sum()*100)"
   ]
  },
  {
   "cell_type": "code",
   "execution_count": 6,
   "metadata": {},
   "outputs": [
    {
     "data": {
      "text/plain": [
       "[1.4661908301687514,\n",
       " 1.4101573694506397,\n",
       " 1.4355800892120802,\n",
       " 1.3231998391616131,\n",
       " 1.4654808936679431,\n",
       " 1.3311811820760655]"
      ]
     },
     "execution_count": 6,
     "metadata": {},
     "output_type": "execute_result"
    }
   ],
   "source": [
    "p"
   ]
  },
  {
   "cell_type": "code",
   "execution_count": 7,
   "metadata": {
    "collapsed": true,
    "scrolled": false
   },
   "outputs": [],
   "source": [
    "w06 = df06['ha_owned_business_flag'].dropna().value_counts()\n",
    "p.append(w06['Y']/w06.sum()*100)\n",
    "w07 = df07['ha_owned_business_flag'].dropna().value_counts()\n",
    "p.append(w07['Y']/w07.sum()*100)\n",
    "w08 = df08['ha_owned_business_flag'].dropna().value_counts()\n",
    "p.append(w08['Y']/w08.sum()*100)\n",
    "w09 = df09['ha_owned_business_flag'].dropna().value_counts()\n",
    "p.append(w09['Y']/w09.sum()*100)\n",
    "w10 = df10['ha_owned_business_flag'].dropna().value_counts()\n",
    "p.append(w10['Y']/w10.sum()*100)\n",
    "w11 = df11['ha_owned_business_flag'].dropna().value_counts()\n",
    "p.append(w11['Y']/w11.sum()*100)\n",
    "w12 = df12['ha_owned_business_flag'].dropna().value_counts()\n",
    "p.append(w12['Y']/w12.sum()*100)"
   ]
  },
  {
   "cell_type": "code",
   "execution_count": 8,
   "metadata": {},
   "outputs": [
    {
     "data": {
      "text/plain": [
       "[1.4661908301687514,\n",
       " 1.4101573694506397,\n",
       " 1.4355800892120802,\n",
       " 1.3231998391616131,\n",
       " 1.4654808936679431,\n",
       " 1.3311811820760655,\n",
       " 1.2987823553314519,\n",
       " 1.6373685256410724,\n",
       " 1.5889348982032394,\n",
       " 2.0856796140695395,\n",
       " 3.1956570734240719,\n",
       " 2.5167703742864367,\n",
       " 2.9685573316785403]"
      ]
     },
     "execution_count": 8,
     "metadata": {},
     "output_type": "execute_result"
    }
   ],
   "source": [
    "p"
   ]
  },
  {
   "cell_type": "code",
   "execution_count": 9,
   "metadata": {},
   "outputs": [
    {
     "data": {
      "image/png": "[encoded data removed]",
      "text/plain": [
       "<matplotlib.figure.Figure at 0x7fce4df42cc0>"
      ]
     },
     "metadata": {},
     "output_type": "display_data"
    }
   ],
   "source": [
    "plt.plot([2000,2001,2002,2003,2004,2005,2006,2007,2008,2009,2010,2011,2012],p)\n",
    "plt.show()"
   ]
  }
 ],
 "metadata": {
  "kernelspec": {
   "display_name": "Python 3",
   "language": "python",
   "name": "python3"
  },
  "language_info": {
   "codemirror_mode": {
    "name": "ipython",
    "version": 3
   },
   "file_extension": ".py",
   "mimetype": "text/x-python",
   "name": "python",
   "nbconvert_exporter": "python",
   "pygments_lexer": "ipython3",
   "version": "3.6.1"
  }
 },
 "nbformat": 4,
 "nbformat_minor": 2
}
