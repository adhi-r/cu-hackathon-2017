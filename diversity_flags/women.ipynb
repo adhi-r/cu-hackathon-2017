{
 "cells": [
  {
   "cell_type": "code",
   "execution_count": 1,
   "metadata": {
    "collapsed": true
   },
   "outputs": [],
   "source": [
    "import pandas as pd\n",
    "pd.set_option('display.max_rows', 500)\n",
    "import matplotlib.pyplot as plt"
   ]
  },
  {
   "cell_type": "code",
   "execution_count": 35,
   "metadata": {},
   "outputs": [],
   "source": [
    "df00 = pd.read_csv('/data/govt2000_2012/GovernmentSpendingContracts-2000.csv',usecols=['women_owned_flag'])\n",
    "df01 = pd.read_csv('/data/govt2000_2012/GovernmentSpendingContracts-2001.csv',usecols=['women_owned_flag'])\n",
    "df02 = pd.read_csv('/data/govt2000_2012/GovernmentSpendingContracts-2002.csv',usecols=['women_owned_flag'])\n",
    "df03 = pd.read_csv('/data/govt2000_2012/GovernmentSpendingContracts-2003.csv',usecols=['women_owned_flag'])\n",
    "df04 = pd.read_csv('/data/govt2000_2012/GovernmentSpendingContracts-2004.csv',usecols=['women_owned_flag'])\n",
    "df05 = pd.read_csv('/data/govt2000_2012/GovernmentSpendingContracts-2005.csv',usecols=['women_owned_flag'])"
   ]
  },
  {
   "cell_type": "code",
   "execution_count": 41,
   "metadata": {},
   "outputs": [],
   "source": [
    "df06 = pd.read_csv('/data/govt2000_2012/GovernmentSpendingContracts-2006.csv',usecols=['women_owned_flag'])\n",
    "df07 = pd.read_csv('/data/govt2000_2012/GovernmentSpendingContracts-2007.csv',usecols=['women_owned_flag'])\n",
    "df08 = pd.read_csv('/data/govt2000_2012/GovernmentSpendingContracts-2008.csv',usecols=['women_owned_flag'])\n",
    "df09 = pd.read_csv('/data/govt2000_2012/GovernmentSpendingContracts-2009.csv',usecols=['women_owned_flag'])\n",
    "df10 = pd.read_csv('/data/govt2000_2012/GovernmentSpendingContracts-2010.csv',usecols=['women_owned_flag'])\n",
    "df11 = pd.read_csv('/data/govt2000_2012/GovernmentSpendingContracts-2011.csv',usecols=['women_owned_flag'])\n",
    "df12 = pd.read_csv('/data/govt2000_2012/GovernmentSpendingContracts-2012.csv',usecols=['women_owned_flag'])"
   ]
  },
  {
   "cell_type": "markdown",
   "metadata": {},
   "source": [
    "** Women owned proportions **"
   ]
  },
  {
   "cell_type": "code",
   "execution_count": 38,
   "metadata": {
    "collapsed": true
   },
   "outputs": [],
   "source": [
    "p=[]"
   ]
  },
  {
   "cell_type": "code",
   "execution_count": 39,
   "metadata": {},
   "outputs": [],
   "source": [
    "w00 = df00['women_owned_flag'].dropna().value_counts()\n",
    "p.append(w00['Y']/w00.sum()*100)\n",
    "w01 = df01['women_owned_flag'].dropna().value_counts()\n",
    "p.append(w01['Y']/w01.sum()*100)\n",
    "w02 = df02['women_owned_flag'].dropna().value_counts()\n",
    "p.append(w02['Y']/w02.sum()*100)\n",
    "w03 = df03['women_owned_flag'].dropna().value_counts()\n",
    "p.append(w03['Y']/w03.sum()*100)\n",
    "w04 = df04['women_owned_flag'].dropna().value_counts()\n",
    "p.append(w04['Y']/w04.sum()*100)\n",
    "w05 = df05['women_owned_flag'].dropna().value_counts()\n",
    "p.append(w05['Y']/w05.sum()*100)"
   ]
  },
  {
   "cell_type": "code",
   "execution_count": 40,
   "metadata": {},
   "outputs": [
    {
     "data": {
      "text/plain": [
       "[6.15672332080955,\n",
       " 6.4461666895099494,\n",
       " 7.0009210154044332,\n",
       " 7.5328793703650199,\n",
       " 9.6777063140218704,\n",
       " 9.2086466663748361]"
      ]
     },
     "execution_count": 40,
     "metadata": {},
     "output_type": "execute_result"
    }
   ],
   "source": [
    "p"
   ]
  },
  {
   "cell_type": "code",
   "execution_count": 42,
   "metadata": {
    "collapsed": true,
    "scrolled": false
   },
   "outputs": [],
   "source": [
    "w06 = df06['women_owned_flag'].dropna().value_counts()\n",
    "p.append(w06['Y']/w06.sum()*100)\n",
    "w07 = df07['women_owned_flag'].dropna().value_counts()\n",
    "p.append(w07['Y']/w07.sum()*100)\n",
    "w08 = df08['women_owned_flag'].dropna().value_counts()\n",
    "p.append(w08['Y']/w08.sum()*100)\n",
    "w09 = df09['women_owned_flag'].dropna().value_counts()\n",
    "p.append(w09['Y']/w09.sum()*100)\n",
    "w10 = df10['women_owned_flag'].dropna().value_counts()\n",
    "p.append(w10['Y']/w10.sum()*100)\n",
    "w11 = df11['women_owned_flag'].dropna().value_counts()\n",
    "p.append(w11['Y']/w11.sum()*100)\n",
    "w12 = df12['women_owned_flag'].dropna().value_counts()\n",
    "p.append(w12['Y']/w12.sum()*100)"
   ]
  },
  {
   "cell_type": "code",
   "execution_count": 43,
   "metadata": {},
   "outputs": [
    {
     "data": {
      "text/plain": [
       "[6.15672332080955,\n",
       " 6.4461666895099494,\n",
       " 7.0009210154044332,\n",
       " 7.5328793703650199,\n",
       " 9.6777063140218704,\n",
       " 9.2086466663748361,\n",
       " 9.5450680216124884,\n",
       " 9.3199732545466176,\n",
       " 9.0713033728792158,\n",
       " 10.042866269816585,\n",
       " 10.460260066045409,\n",
       " 10.462965061634382,\n",
       " 10.865767754949546]"
      ]
     },
     "execution_count": 43,
     "metadata": {},
     "output_type": "execute_result"
    }
   ],
   "source": [
    "p"
   ]
  },
  {
   "cell_type": "code",
   "execution_count": null,
   "metadata": {
    "collapsed": true
   },
   "outputs": [],
   "source": [
    "plt.plot(p,[2000,2001,2002,2003,2004,2005,2006,2007,2008,2009,2010,2011,2012])\n",
    "plt.show()"
   ]
  }
 ],
 "metadata": {
  "kernelspec": {
   "display_name": "Python 3",
   "language": "python",
   "name": "python3"
  },
  "language_info": {
   "codemirror_mode": {
    "name": "ipython",
    "version": 3
   },
   "file_extension": ".py",
   "mimetype": "text/x-python",
   "name": "python",
   "nbconvert_exporter": "python",
   "pygments_lexer": "ipython3",
   "version": "3.6.1"
  }
 },
 "nbformat": 4,
 "nbformat_minor": 2
}
