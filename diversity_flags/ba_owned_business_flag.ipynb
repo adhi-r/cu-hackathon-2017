{
 "cells": [
  {
   "cell_type": "code",
   "execution_count": 1,
   "metadata": {
    "collapsed": true
   },
   "outputs": [],
   "source": [
    "import pandas as pd\n",
    "pd.set_option('display.max_rows', 500)\n",
    "import matplotlib.pyplot as plt"
   ]
  },
  {
   "cell_type": "code",
   "execution_count": 2,
   "metadata": {
    "collapsed": true
   },
   "outputs": [],
   "source": [
    "df00 = pd.read_csv('/data/govt2000_2012/GovernmentSpendingContracts-2000.csv',usecols=['ba_owned_business_flag'])\n",
    "df01 = pd.read_csv('/data/govt2000_2012/GovernmentSpendingContracts-2001.csv',usecols=['ba_owned_business_flag'])\n",
    "df02 = pd.read_csv('/data/govt2000_2012/GovernmentSpendingContracts-2002.csv',usecols=['ba_owned_business_flag'])\n",
    "df03 = pd.read_csv('/data/govt2000_2012/GovernmentSpendingContracts-2003.csv',usecols=['ba_owned_business_flag'])\n",
    "df04 = pd.read_csv('/data/govt2000_2012/GovernmentSpendingContracts-2004.csv',usecols=['ba_owned_business_flag'])\n",
    "df05 = pd.read_csv('/data/govt2000_2012/GovernmentSpendingContracts-2005.csv',usecols=['ba_owned_business_flag'])"
   ]
  },
  {
   "cell_type": "code",
   "execution_count": 3,
   "metadata": {
    "collapsed": true
   },
   "outputs": [],
   "source": [
    "df06 = pd.read_csv('/data/govt2000_2012/GovernmentSpendingContracts-2006.csv',usecols=['ba_owned_business_flag'])\n",
    "df07 = pd.read_csv('/data/govt2000_2012/GovernmentSpendingContracts-2007.csv',usecols=['ba_owned_business_flag'])\n",
    "df08 = pd.read_csv('/data/govt2000_2012/GovernmentSpendingContracts-2008.csv',usecols=['ba_owned_business_flag'])\n",
    "df09 = pd.read_csv('/data/govt2000_2012/GovernmentSpendingContracts-2009.csv',usecols=['ba_owned_business_flag'])\n",
    "df10 = pd.read_csv('/data/govt2000_2012/GovernmentSpendingContracts-2010.csv',usecols=['ba_owned_business_flag'])\n",
    "df11 = pd.read_csv('/data/govt2000_2012/GovernmentSpendingContracts-2011.csv',usecols=['ba_owned_business_flag'])\n",
    "df12 = pd.read_csv('/data/govt2000_2012/GovernmentSpendingContracts-2012.csv',usecols=['ba_owned_business_flag'])"
   ]
  },
  {
   "cell_type": "code",
   "execution_count": 7,
   "metadata": {},
   "outputs": [
    {
     "data": {
      "text/plain": [
       "array(['9700: Department of Defense', '1900: Department of State',\n",
       "       '7500: Department of Health and Human Services',\n",
       "       '1200: Department of Agriculture', '1300: Department of Commerce',\n",
       "       '3600: Department of Veterans Affairs',\n",
       "       '8600: Department of Housing and Urban Development',\n",
       "       '8900: Department of Energy', '1500: Department of Justice',\n",
       "       '2800: Social Security Administration',\n",
       "       '2000: Department of the Treasury',\n",
       "       '4700: General Services Administration',\n",
       "       '5000: Securities and Exchange Commission',\n",
       "       '6900: Department of Transportation',\n",
       "       '6800: Environmental Protection Agency',\n",
       "       '7000: Department of Homeland Security',\n",
       "       '1400: Department of the Interior ',\n",
       "       '6000: Railroad Retirement Board',\n",
       "       '6100: Consumer Product Safety Commission',\n",
       "       '1100: Executive Office of the President',\n",
       "       '9100: Department of Education', '1600: Department of Labor',\n",
       "       '8000: National Aeronautics and Space Administration',\n",
       "       '7200: U.S. Agency for International Development',\n",
       "       '3400: U.S. International Trade Commission',\n",
       "       '3100: Nuclear Regulatory Commission',\n",
       "       '7100: Overseas Private Investment Corporation',\n",
       "       '4900: National Science Foundation',\n",
       "       '2700: Federal Communications Commission',\n",
       "       '2900: Federal Trade Commission',\n",
       "       '9507: Commodity Futures Trading Commission', ':',\n",
       "       '6300: National Labor Relations Board',\n",
       "       '9568: Broadcasting Board of Governors',\n",
       "       '2400: Office of Personnel Management',\n",
       "       '8800: National Archives and Records Administration',\n",
       "       '3300: Smithsonian Institution',\n",
       "       '7300: Small Business Administration',\n",
       "       '4100: Merit Systems Protection Board',\n",
       "       '9543: Millennium Challenge Corporation',\n",
       "       '9508: National Transportation Safety Board',\n",
       "       '4500: Equal Employment Opportunity Commission',\n",
       "       '955F: Consumer Financial Protection Bureau',\n",
       "       '0500: Government Accountability Office',\n",
       "       '9577: Corporation for National and Community Service',\n",
       "       '9565: Chemical Safety and Hazard Investigation Board'], dtype=object)"
      ]
     },
     "execution_count": 7,
     "metadata": {},
     "output_type": "execute_result"
    }
   ],
   "source": [
    "df.maj_agency_cat.unique()"
   ]
  },
  {
   "cell_type": "markdown",
   "metadata": {},
   "source": [
    "** Women owned proportions **"
   ]
  },
  {
   "cell_type": "code",
   "execution_count": 4,
   "metadata": {
    "collapsed": true
   },
   "outputs": [],
   "source": [
    "p=[]"
   ]
  },
  {
   "cell_type": "code",
   "execution_count": 5,
   "metadata": {
    "collapsed": true
   },
   "outputs": [],
   "source": [
    "w00 = df00['ba_owned_business_flag'].dropna().value_counts()\n",
    "p.append(w00['Y']/w00.sum()*100)\n",
    "w01 = df01['ba_owned_business_flag'].dropna().value_counts()\n",
    "p.append(w01['Y']/w01.sum()*100)\n",
    "w02 = df02['ba_owned_business_flag'].dropna().value_counts()\n",
    "p.append(w02['Y']/w02.sum()*100)\n",
    "w03 = df03['ba_owned_business_flag'].dropna().value_counts()\n",
    "p.append(w03['Y']/w03.sum()*100)\n",
    "w04 = df04['ba_owned_business_flag'].dropna().value_counts()\n",
    "p.append(w04['Y']/w04.sum()*100)\n",
    "w05 = df05['ba_owned_business_flag'].dropna().value_counts()\n",
    "p.append(w05['Y']/w05.sum()*100)"
   ]
  },
  {
   "cell_type": "code",
   "execution_count": 6,
   "metadata": {},
   "outputs": [
    {
     "data": {
      "text/plain": [
       "[1.3545194937117599,\n",
       " 1.3990991439999003,\n",
       " 1.5630775157866854,\n",
       " 1.3525967712369604,\n",
       " 1.3757923906129284,\n",
       " 1.3123765755023451]"
      ]
     },
     "execution_count": 6,
     "metadata": {},
     "output_type": "execute_result"
    }
   ],
   "source": [
    "p"
   ]
  },
  {
   "cell_type": "code",
   "execution_count": 7,
   "metadata": {
    "collapsed": true,
    "scrolled": false
   },
   "outputs": [],
   "source": [
    "w06 = df06['ba_owned_business_flag'].dropna().value_counts()\n",
    "p.append(w06['Y']/w06.sum()*100)\n",
    "w07 = df07['ba_owned_business_flag'].dropna().value_counts()\n",
    "p.append(w07['Y']/w07.sum()*100)\n",
    "w08 = df08['ba_owned_business_flag'].dropna().value_counts()\n",
    "p.append(w08['Y']/w08.sum()*100)\n",
    "w09 = df09['ba_owned_business_flag'].dropna().value_counts()\n",
    "p.append(w09['Y']/w09.sum()*100)\n",
    "w10 = df10['ba_owned_business_flag'].dropna().value_counts()\n",
    "p.append(w10['Y']/w10.sum()*100)\n",
    "w11 = df11['ba_owned_business_flag'].dropna().value_counts()\n",
    "p.append(w11['Y']/w11.sum()*100)\n",
    "w12 = df12['ba_owned_business_flag'].dropna().value_counts()\n",
    "p.append(w12['Y']/w12.sum()*100)"
   ]
  },
  {
   "cell_type": "code",
   "execution_count": 8,
   "metadata": {},
   "outputs": [
    {
     "data": {
      "text/plain": [
       "[1.3545194937117599,\n",
       " 1.3990991439999003,\n",
       " 1.5630775157866854,\n",
       " 1.3525967712369604,\n",
       " 1.3757923906129284,\n",
       " 1.3123765755023451,\n",
       " 1.5244983934421998,\n",
       " 1.7560885674375322,\n",
       " 1.9274122388464292,\n",
       " 2.2387169743623758,\n",
       " 2.7974248170032632,\n",
       " 2.412243454998821,\n",
       " 2.8971061969748719]"
      ]
     },
     "execution_count": 8,
     "metadata": {},
     "output_type": "execute_result"
    }
   ],
   "source": [
    "p"
   ]
  },
  {
   "cell_type": "code",
   "execution_count": 9,
   "metadata": {},
   "outputs": [
    {
     "data": {
      "image/png": "[encoded data removed]",
      "text/plain": [
       "<matplotlib.figure.Figure at 0x7f176593dc50>"
      ]
     },
     "metadata": {},
     "output_type": "display_data"
    }
   ],
   "source": [
    "plt.plot([2000,2001,2002,2003,2004,2005,2006,2007,2008,2009,2010,2011,2012],p)\n",
    "plt.show()"
   ]
  }
 ],
 "metadata": {
  "kernelspec": {
   "display_name": "Python 3",
   "language": "python",
   "name": "python3"
  },
  "language_info": {
   "codemirror_mode": {
    "name": "ipython",
    "version": 3
   },
   "file_extension": ".py",
   "mimetype": "text/x-python",
   "name": "python",
   "nbconvert_exporter": "python",
   "pygments_lexer": "ipython3",
   "version": "3.6.1"
  }
 },
 "nbformat": 4,
 "nbformat_minor": 2
}
